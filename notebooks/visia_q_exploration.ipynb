{
 "cells": [
  {
   "cell_type": "code",
   "id": "initial_id",
   "metadata": {
    "collapsed": true,
    "ExecuteTime": {
     "end_time": "2024-06-26T15:55:57.823960Z",
     "start_time": "2024-06-26T15:55:57.820372Z"
    }
   },
   "source": [
    "import os\n",
    "import numpy as np\n",
    "import pandas as pd\n",
    "\n",
    "from pathlib import Path"
   ],
   "outputs": [],
   "execution_count": 11
  },
  {
   "metadata": {
    "ExecuteTime": {
     "end_time": "2024-06-26T15:57:03.228679Z",
     "start_time": "2024-06-26T15:57:03.223415Z"
    }
   },
   "cell_type": "code",
   "source": [
    "# Set the paths\n",
    "ROOT_PATH = Path(os.getcwd()).parent\n",
    "raw_data_path = ROOT_PATH / 'data' / 'raw'"
   ],
   "id": "835e12de05640dbc",
   "outputs": [],
   "execution_count": 16
  },
  {
   "metadata": {
    "ExecuteTime": {
     "end_time": "2024-06-26T16:00:48.043314Z",
     "start_time": "2024-06-26T16:00:48.022128Z"
    }
   },
   "cell_type": "code",
   "source": [
    "# Load the CSV files\n",
    "csv_files = [file for file in raw_data_path.iterdir() if file.suffix == '.csv']\n",
    "\n",
    "visia_questionaries = {}\n",
    "for file in csv_files:\n",
    "    df_questionaries = pd.read_csv(file)\n",
    "    \n",
    "    questionary_name = file.stem\n",
    "    visia_questionaries[questionary_name] = df_questionaries\n",
    "visia_questionaries.keys()"
   ],
   "id": "21409729a4dbd910",
   "outputs": [
    {
     "data": {
      "text/plain": [
       "dict_keys(['forminator-vsc-240626094647', 'forminator-maci-ii-ov-240626094444', 'forminator-sdq-ov-240626094631', 'forminator-mfq-ov-240626094536', 'forminator-ebip-q-ecip-q-ov-240626094517', 'forminator-eupi-a-ov-240626094612', 'forminator-paykel-ov-240626094554'])"
      ]
     },
     "execution_count": 19,
     "metadata": {},
     "output_type": "execute_result"
    }
   ],
   "execution_count": 19
  },
  {
   "metadata": {
    "ExecuteTime": {
     "end_time": "2024-06-26T16:05:42.079203Z",
     "start_time": "2024-06-26T16:05:42.063264Z"
    }
   },
   "cell_type": "code",
   "source": [
    "# General cleaning\n",
    "for key in visia_questionaries.keys():\n",
    "    df = visia_questionaries[key]\n",
    "    # Remove all the columns with all NaN values\n",
    "    df = df.dropna(axis=1, how='all')\n",
    "    # Remove all the rows with all NaN values\n",
    "    df = df.dropna(axis=0, how='all')"
   ],
   "id": "6bd75b8a1d3885a2",
   "outputs": [],
   "execution_count": 23
  },
  {
   "metadata": {},
   "cell_type": "code",
   "outputs": [],
   "execution_count": null,
   "source": "",
   "id": "970267c452f2910a"
  }
 ],
 "metadata": {
  "kernelspec": {
   "display_name": "Python 3",
   "language": "python",
   "name": "python3"
  },
  "language_info": {
   "codemirror_mode": {
    "name": "ipython",
    "version": 2
   },
   "file_extension": ".py",
   "mimetype": "text/x-python",
   "name": "python",
   "nbconvert_exporter": "python",
   "pygments_lexer": "ipython2",
   "version": "2.7.6"
  }
 },
 "nbformat": 4,
 "nbformat_minor": 5
}
